{
 "cells": [
  {
   "cell_type": "markdown",
   "metadata": {},
   "source": [
    "PRE PROCESSING"
   ]
  },
  {
   "cell_type": "code",
   "execution_count": 31,
   "metadata": {},
   "outputs": [],
   "source": [
    "import librosa\n",
    "import numpy as np\n",
    "import os\n",
    "from sklearn.preprocessing import LabelEncoder\n",
    "import pickle\n",
    "import tensorflow as tf \n",
    "\n",
    "from tf_keras.utils import to_categorical\n",
    "from tf_keras.models import Sequential, load_model\n",
    "from tf_keras.layers import Dense, LSTM, Dropout\n",
    "\n",
    "from sklearn.model_selection import train_test_split"
   ]
  },
  {
   "cell_type": "code",
   "execution_count": 32,
   "metadata": {},
   "outputs": [],
   "source": [
    "def extract_features(file_name):\n",
    "    try:\n",
    "        # Memuat file audio\n",
    "        audio, sample_rate = librosa.load(file_name, res_type='kaiser_fast')\n",
    "        \n",
    "        # Ekstraksi fitur MFCC\n",
    "        mfccs = librosa.feature.mfcc(y=audio, sr=sample_rate, n_mfcc=40)\n",
    "        \n",
    "        # Mengambil rata-rata MFCC di sepanjang sumbu waktu\n",
    "        mfccs_scaled = np.mean(mfccs.T, axis=0)\n",
    "        \n",
    "        return mfccs_scaled\n",
    "    except Exception as e:\n",
    "        print(f\"Error encountered while parsing file: {file_name}\")\n",
    "        print(f\"Error: {e}\")\n",
    "        return None"
   ]
  },
  {
   "cell_type": "code",
   "execution_count": 33,
   "metadata": {},
   "outputs": [
    {
     "name": "stdout",
     "output_type": "stream",
     "text": [
      "Extracted 6229 features and 6229 labels.\n",
      "Preprocessing selesai. Data fitur dan label telah disimpan.\n"
     ]
    }
   ],
   "source": [
    "# Path utama ke folder data audio\n",
    "main_dir = 'Dataset'  # Ganti dengan path yang sesuai jika berada di direktori yang berbeda\n",
    "labels = []\n",
    "features = []\n",
    "\n",
    "# Melalui semua subfolder dan file audio\n",
    "for subdir, dirs, files in os.walk(main_dir):\n",
    "    for file in files:\n",
    "        if file.endswith('.wav'):  # Menggunakan hanya file .wav\n",
    "            file_path = os.path.join(subdir, file)\n",
    "            \n",
    "            # Mengekstrak fitur dari file audio\n",
    "            mfccs = extract_features(file_path)\n",
    "            \n",
    "            # Menyimpan fitur dan label jika berhasil diekstrak\n",
    "            if mfccs is not None:\n",
    "                features.append(mfccs)\n",
    "                \n",
    "                # Mengambil label dari nama subfolder\n",
    "                # Nama folder parent diambil sebagai label\n",
    "                label = os.path.basename(subdir)\n",
    "                labels.append(label)\n",
    "\n",
    "# Mengubah list fitur dan label ke numpy array\n",
    "X = np.array(features)\n",
    "y = np.array(labels)\n",
    "\n",
    "print(f\"Extracted {len(X)} features and {len(y)} labels.\")\n",
    "\n",
    "# Encoding label menggunakan LabelEncoder\n",
    "le = LabelEncoder()\n",
    "y_encoded = le.fit_transform(y)\n",
    "\n",
    "# Menyimpan fitur dan label yang sudah diencode\n",
    "with open('features.pkl', 'wb') as f:\n",
    "    pickle.dump(X, f)\n",
    "with open('labels.pkl', 'wb') as f:\n",
    "    pickle.dump(y_encoded, f)\n",
    "\n",
    "print(\"Preprocessing selesai. Data fitur dan label telah disimpan.\")"
   ]
  },
  {
   "cell_type": "code",
   "execution_count": 34,
   "metadata": {},
   "outputs": [],
   "source": [
    "# Menyimpan label encoder untuk digunakan nanti\n",
    "with open('label_encoder.pkl', 'wb') as f:\n",
    "    pickle.dump(le, f)"
   ]
  },
  {
   "cell_type": "code",
   "execution_count": 35,
   "metadata": {},
   "outputs": [
    {
     "name": "stdout",
     "output_type": "stream",
     "text": [
      "Shape of X: (6229, 40, 1)\n",
      "Shape of y: (6229, 84)\n"
     ]
    }
   ],
   "source": [
    "# Memuat fitur dan label\n",
    "with open('features.pkl', 'rb') as f:\n",
    "    X = pickle.load(f)\n",
    "with open('labels.pkl', 'rb') as f:\n",
    "    y_encoded = pickle.load(f)\n",
    "\n",
    "# One-hot encoding untuk label\n",
    "y_categorical = to_categorical(y_encoded)\n",
    "\n",
    "# Memastikan bahwa bentuk data sesuai untuk CNN\n",
    "X = np.expand_dims(X, axis=-1)  # Menambahkan dimensi untuk saluran (channel)\n",
    "\n",
    "print(f\"Shape of X: {X.shape}\")\n",
    "print(f\"Shape of y: {y_categorical.shape}\")"
   ]
  },
  {
   "cell_type": "code",
   "execution_count": 36,
   "metadata": {},
   "outputs": [
    {
     "name": "stdout",
     "output_type": "stream",
     "text": [
      "Shape of X: (6229, 40)\n",
      "Shape of y: (6229,)\n"
     ]
    }
   ],
   "source": [
    "# Memuat data dari file pickle\n",
    "with open('features.pkl', 'rb') as f:\n",
    "    X = pickle.load(f)\n",
    "with open('labels.pkl', 'rb') as f:\n",
    "    y = pickle.load(f)\n",
    "\n",
    "# Memeriksa bentuk data\n",
    "print(f\"Shape of X: {X.shape}\")\n",
    "print(f\"Shape of y: {y.shape}\")"
   ]
  },
  {
   "cell_type": "code",
   "execution_count": 37,
   "metadata": {},
   "outputs": [
    {
     "name": "stdout",
     "output_type": "stream",
     "text": [
      "Epoch 1/20\n",
      "156/156 [==============================] - 6s 21ms/step - loss: 4.4381 - accuracy: 0.0126 - val_loss: 4.4326 - val_accuracy: 0.0144\n",
      "Epoch 2/20\n",
      "156/156 [==============================] - 3s 17ms/step - loss: 4.3650 - accuracy: 0.0209 - val_loss: 4.2161 - val_accuracy: 0.0161\n",
      "Epoch 3/20\n",
      "156/156 [==============================] - 3s 17ms/step - loss: 4.1563 - accuracy: 0.0303 - val_loss: 4.0435 - val_accuracy: 0.0241\n",
      "Epoch 4/20\n",
      "156/156 [==============================] - 3s 17ms/step - loss: 4.0323 - accuracy: 0.0315 - val_loss: 3.9105 - val_accuracy: 0.0393\n",
      "Epoch 5/20\n",
      "156/156 [==============================] - 3s 18ms/step - loss: 3.8628 - accuracy: 0.0419 - val_loss: 3.7176 - val_accuracy: 0.0409\n",
      "Epoch 6/20\n",
      "156/156 [==============================] - 3s 17ms/step - loss: 3.6994 - accuracy: 0.0460 - val_loss: 3.5983 - val_accuracy: 0.0530\n",
      "Epoch 7/20\n",
      "156/156 [==============================] - 3s 18ms/step - loss: 3.6084 - accuracy: 0.0524 - val_loss: 3.4929 - val_accuracy: 0.0682\n",
      "Epoch 8/20\n",
      "156/156 [==============================] - 3s 17ms/step - loss: 3.5103 - accuracy: 0.0614 - val_loss: 3.3703 - val_accuracy: 0.0762\n",
      "Epoch 9/20\n",
      "156/156 [==============================] - 3s 18ms/step - loss: 3.4621 - accuracy: 0.0688 - val_loss: 3.3858 - val_accuracy: 0.0722\n",
      "Epoch 10/20\n",
      "156/156 [==============================] - 3s 17ms/step - loss: 3.4148 - accuracy: 0.0672 - val_loss: 3.3873 - val_accuracy: 0.0770\n",
      "Epoch 11/20\n",
      "156/156 [==============================] - 3s 18ms/step - loss: 3.3531 - accuracy: 0.0718 - val_loss: 3.2956 - val_accuracy: 0.0843\n",
      "Epoch 12/20\n",
      "156/156 [==============================] - 3s 17ms/step - loss: 3.3028 - accuracy: 0.0837 - val_loss: 3.2129 - val_accuracy: 0.0867\n",
      "Epoch 13/20\n",
      "156/156 [==============================] - 3s 18ms/step - loss: 3.2643 - accuracy: 0.0865 - val_loss: 3.2507 - val_accuracy: 0.0803\n",
      "Epoch 14/20\n",
      "156/156 [==============================] - 3s 18ms/step - loss: 3.2390 - accuracy: 0.0899 - val_loss: 3.1980 - val_accuracy: 0.0899\n",
      "Epoch 15/20\n",
      "156/156 [==============================] - 3s 17ms/step - loss: 3.1756 - accuracy: 0.0931 - val_loss: 3.1227 - val_accuracy: 0.1019\n",
      "Epoch 16/20\n",
      "156/156 [==============================] - 3s 18ms/step - loss: 3.1152 - accuracy: 0.1068 - val_loss: 3.0926 - val_accuracy: 0.1108\n",
      "Epoch 17/20\n",
      "156/156 [==============================] - 3s 18ms/step - loss: 3.0982 - accuracy: 0.0997 - val_loss: 3.0771 - val_accuracy: 0.1116\n",
      "Epoch 18/20\n",
      "156/156 [==============================] - 3s 18ms/step - loss: 3.0777 - accuracy: 0.1124 - val_loss: 3.0353 - val_accuracy: 0.1268\n",
      "Epoch 19/20\n",
      "156/156 [==============================] - 3s 17ms/step - loss: 3.0386 - accuracy: 0.1132 - val_loss: 3.0826 - val_accuracy: 0.1148\n",
      "Epoch 20/20\n",
      "156/156 [==============================] - 3s 17ms/step - loss: 3.0049 - accuracy: 0.1220 - val_loss: 3.0420 - val_accuracy: 0.1148\n"
     ]
    },
    {
     "name": "stderr",
     "output_type": "stream",
     "text": [
      "c:\\Users\\reinj\\AppData\\Local\\Programs\\Python\\Python310\\lib\\site-packages\\tf_keras\\src\\engine\\training.py:3098: UserWarning: You are saving your model as an HDF5 file via `model.save()`. This file format is considered legacy. We recommend using instead the native TF-Keras format, e.g. `model.save('my_model.keras')`.\n",
      "  saving_api.save_model(\n"
     ]
    }
   ],
   "source": [
    "# Menyusun ulang dimensi jika diperlukan (menghapus dimensi terakhir jika hanya 1)\n",
    "if X.ndim == 2:\n",
    "    X = np.expand_dims(X, axis=-1)\n",
    "\n",
    "# Mengonversi label menjadi one-hot encoding jika belum\n",
    "num_classes = 84\n",
    "if y.ndim == 1 or y.shape[1] != num_classes:\n",
    "    y = to_categorical(y, num_classes=num_classes)\n",
    "\n",
    "# Membagi data menjadi set pelatihan dan set validasi\n",
    "X_train, X_val, y_train, y_val = train_test_split(X, y, test_size=0.2, random_state=42)\n",
    "\n",
    "# Membangun model\n",
    "model = Sequential()\n",
    "\n",
    "# Menambahkan layer LSTM\n",
    "model.add(LSTM(128, input_shape=(X_train.shape[1], X_train.shape[2]), return_sequences=True))\n",
    "model.add(Dropout(0.5))\n",
    "model.add(LSTM(64))\n",
    "model.add(Dropout(0.5))\n",
    "model.add(Dense(num_classes, activation='softmax'))\n",
    "\n",
    "# Mengompilasi model\n",
    "model.compile(optimizer='adam', loss='categorical_crossentropy', metrics=['accuracy'])\n",
    "\n",
    "# Melatih model\n",
    "history = model.fit(X_train, y_train, \n",
    "                    epochs=20, \n",
    "                    batch_size=32, \n",
    "                    validation_data=(X_val, y_val))\n",
    "\n",
    "# Menyimpan model\n",
    "model.save('model.h5')"
   ]
  },
  {
   "cell_type": "code",
   "execution_count": 38,
   "metadata": {},
   "outputs": [
    {
     "data": {
      "image/png": "[encoded data removed]",
      "text/plain": [
       "<Figure size 640x480 with 1 Axes>"
      ]
     },
     "metadata": {},
     "output_type": "display_data"
    },
    {
     "data": {
      "image/png": "[encoded data removed]",
      "text/plain": [
       "<Figure size 640x480 with 1 Axes>"
      ]
     },
     "metadata": {},
     "output_type": "display_data"
    }
   ],
   "source": [
    "# Menampilkan hasil pelatihan\n",
    "import matplotlib.pyplot as plt\n",
    "\n",
    "plt.plot(history.history['loss'], label='Loss')\n",
    "plt.plot(history.history['val_loss'], label='Validation Loss')\n",
    "plt.xlabel('Epoch')\n",
    "plt.ylabel('Loss')\n",
    "plt.legend()\n",
    "plt.show()\n",
    "\n",
    "plt.plot(history.history['accuracy'], label='Accuracy')\n",
    "plt.plot(history.history['val_accuracy'], label='Validation Accuracy')\n",
    "plt.xlabel('Epoch')\n",
    "plt.ylabel('Accuracy')\n",
    "plt.legend()\n",
    "plt.show()"
   ]
  },
  {
   "cell_type": "code",
   "execution_count": 39,
   "metadata": {},
   "outputs": [
    {
     "name": "stdout",
     "output_type": "stream",
     "text": [
      "39/39 [==============================] - 1s 7ms/step - loss: 3.0420 - accuracy: 0.1148\n",
      "Validation Loss: 3.0419650077819824\n",
      "Validation Accuracy: 0.11476725339889526\n"
     ]
    }
   ],
   "source": [
    "# Memuat model yang sudah dilatih\n",
    "model = load_model('model.h5')\n",
    "\n",
    "# Memuat data dari file pickle\n",
    "with open('features.pkl', 'rb') as f:\n",
    "    X = pickle.load(f)\n",
    "with open('labels.pkl', 'rb') as f:\n",
    "    y = pickle.load(f)\n",
    "\n",
    "# Mengonversi label menjadi one-hot encoding jika belum\n",
    "num_classes = 84\n",
    "if y.ndim == 1 or y.shape[1] != num_classes:\n",
    "    y = to_categorical(y, num_classes=num_classes)\n",
    "\n",
    "# Membagi data menjadi set pelatihan dan set validasi\n",
    "from sklearn.model_selection import train_test_split\n",
    "X_train, X_val, y_train, y_val = train_test_split(X, y, test_size=0.2, random_state=42)\n",
    "\n",
    "# Mengevaluasi model pada data validasi\n",
    "eval_results = model.evaluate(X_val, y_val, verbose=1)\n",
    "print(f\"Validation Loss: {eval_results[0]}\")\n",
    "print(f\"Validation Accuracy: {eval_results[1]}\")"
   ]
  },
  {
   "cell_type": "code",
   "execution_count": 40,
   "metadata": {},
   "outputs": [
    {
     "name": "stdout",
     "output_type": "stream",
     "text": [
      "Error encountered while parsing file: A.wav\n",
      "Error: [Errno 2] No such file or directory: 'A.wav'\n",
      "Failed to preprocess the new audio data.\n"
     ]
    },
    {
     "name": "stderr",
     "output_type": "stream",
     "text": [
      "C:\\Users\\reinj\\AppData\\Local\\Temp\\ipykernel_19584\\1763379335.py:4: UserWarning: PySoundFile failed. Trying audioread instead.\n",
      "  audio, sample_rate = librosa.load(file_name, res_type='kaiser_fast')\n",
      "c:\\Users\\reinj\\AppData\\Local\\Programs\\Python\\Python310\\lib\\site-packages\\librosa\\core\\audio.py:184: FutureWarning: librosa.core.audio.__audioread_load\n",
      "\tDeprecated as of librosa version 0.10.0.\n",
      "\tIt will be removed in librosa version 1.0.\n",
      "  y, sr_native = __audioread_load(path, offset, duration, dtype)\n"
     ]
    }
   ],
   "source": [
    "# # Menggunakan model untuk prediksi pada data baru\n",
    "# def preprocess_new_data(file_path):\n",
    "#     \"\"\"\n",
    "#     Fungsi untuk memproses file audio baru menjadi fitur yang sesuai.\n",
    "#     \"\"\"\n",
    "#     mfccs = extract_features(file_path)\n",
    "#     if mfccs is not None:\n",
    "#         mfccs = np.expand_dims(mfccs, axis=0)  # Menambahkan dimensi batch\n",
    "#         return mfccs\n",
    "#     return None\n",
    "\n",
    "# # Contoh file audio baru untuk pengujian\n",
    "# new_file_path = 'A.wav'  # Ganti dengan path file audio baru Anda\n",
    "# new_data = preprocess_new_data(new_file_path)\n",
    "\n",
    "# if new_data is not None:\n",
    "#     predictions = model.predict(new_data)\n",
    "#     predicted_class = np.argmax(predictions, axis=1)  # Mengambil kelas dengan probabilitas tertinggi\n",
    "#     print(f\"Predicted class: {predicted_class}\")\n",
    "# else:\n",
    "#     print(\"Failed to preprocess the new audio data.\")"
   ]
  },
  {
   "cell_type": "code",
   "execution_count": 43,
   "metadata": {},
   "outputs": [
    {
     "name": "stdout",
     "output_type": "stream",
     "text": [
      "1/1 [==============================] - 0s 14ms/step\n",
      "File: A.wav\n",
      "Top 5 predictions:\n",
      "  15. jim_dommah: 9.32%\n",
      "  84. ya_dommah: 8.74%\n",
      "  33. zay_dommah: 6.57%\n",
      "  69. lam_dommah: 5.70%\n",
      "  24. dal_dommah: 4.95%\n",
      "---\n",
      "1/1 [==============================] - 0s 17ms/step\n",
      "File: B.wav\n",
      "Top 5 predictions:\n",
      "  15. jim_dommah: 9.17%\n",
      "  36. sin_dommah: 6.05%\n",
      "  24. dal_dommah: 5.48%\n",
      "  12. tsa_dommah: 5.36%\n",
      "  27. dzal_dommah: 5.15%\n",
      "---\n",
      "1/1 [==============================] - 0s 16ms/step\n",
      "File: BI.wav\n",
      "Top 5 predictions:\n",
      "  84. ya_dommah: 14.34%\n",
      "  15. jim_dommah: 8.70%\n",
      "  69. lam_dommah: 7.55%\n",
      "  80. waw_kasroh: 7.34%\n",
      "  33. zay_dommah: 6.47%\n",
      "---\n",
      "1/1 [==============================] - 0s 16ms/step\n",
      "File: BU.wav\n",
      "Top 5 predictions:\n",
      "  84. ya_dommah: 13.51%\n",
      "  15. jim_dommah: 8.44%\n",
      "  80. waw_kasroh: 7.77%\n",
      "  69. lam_dommah: 7.01%\n",
      "  33. zay_dommah: 5.95%\n",
      "---\n",
      "1/1 [==============================] - 0s 16ms/step\n",
      "File: C.wav\n",
      "Top 5 predictions:\n",
      "  15. jim_dommah: 8.71%\n",
      "  84. ya_dommah: 6.27%\n",
      "  33. zay_dommah: 5.64%\n",
      "  24. dal_dommah: 5.08%\n",
      "  69. lam_dommah: 5.00%\n",
      "---\n",
      "1/1 [==============================] - 0s 15ms/step\n",
      "File: I.wav\n",
      "Top 5 predictions:\n",
      "  80. waw_kasroh: 10.78%\n",
      "  32. zay_kasroh: 8.47%\n",
      "  71. mim_kasroh: 7.70%\n",
      "  44. dad_kasroh: 6.52%\n",
      "  26. dzal_kasroh: 6.25%\n",
      "---\n",
      "1/1 [==============================] - 0s 16ms/step\n",
      "File: TI.wav\n",
      "Top 5 predictions:\n",
      "  15. jim_dommah: 11.17%\n",
      "  84. ya_dommah: 10.94%\n",
      "  69. lam_dommah: 7.88%\n",
      "  33. zay_dommah: 7.67%\n",
      "  24. dal_dommah: 6.37%\n",
      "---\n",
      "1/1 [==============================] - 0s 16ms/step\n",
      "File: TU.wav\n",
      "Top 5 predictions:\n",
      "  15. jim_dommah: 10.44%\n",
      "  84. ya_dommah: 7.83%\n",
      "  33. zay_dommah: 6.73%\n",
      "  69. lam_dommah: 6.55%\n",
      "  24. dal_dommah: 6.51%\n",
      "---\n",
      "1/1 [==============================] - 0s 15ms/step\n",
      "File: U.wav\n",
      "Top 5 predictions:\n",
      "  15. jim_dommah: 9.18%\n",
      "  24. dal_dommah: 5.86%\n",
      "  36. sin_dommah: 5.58%\n",
      "  27. dzal_dommah: 5.56%\n",
      "  12. tsa_dommah: 5.36%\n",
      "---\n"
     ]
    }
   ],
   "source": [
    "# ... existing code ...\n",
    "\n",
    "# Menggunakan model untuk prediksi pada data baru\n",
    "def preprocess_new_data(file_path):\n",
    "    \"\"\"\n",
    "    Fungsi untuk memproses file audio baru menjadi fitur yang sesuai.\n",
    "    \"\"\"\n",
    "    mfccs = extract_features(file_path)\n",
    "    if mfccs is not None:\n",
    "        mfccs = np.expand_dims(mfccs, axis=0)  # Menambahkan dimensi batch\n",
    "        return mfccs\n",
    "    return None\n",
    "\n",
    "# Folder yang berisi data baru untuk pengujian\n",
    "new_data_folder = 'dataset_baru'\n",
    "\n",
    "# Memuat label encoder\n",
    "with open('label_encoder.pkl', 'rb') as f:\n",
    "    le = pickle.load(f)\n",
    "\n",
    "# Iterasi melalui semua file dalam folder dataset_baru\n",
    "for file_name in os.listdir(new_data_folder):\n",
    "    if file_name.endswith('.wav'):\n",
    "        file_path = os.path.join(new_data_folder, file_name)\n",
    "        new_data = preprocess_new_data(file_path)\n",
    "        \n",
    "        if new_data is not None:\n",
    "            predictions = model.predict(new_data)[0]\n",
    "            top_5_indices = np.argsort(predictions)[-5:][::-1]\n",
    "            top_5_classes = le.inverse_transform(top_5_indices)\n",
    "            top_5_confidences = predictions[top_5_indices] * 100\n",
    "            \n",
    "            print(f\"File: {file_name}\")\n",
    "            print(\"Top 5 predictions:\")\n",
    "            for cls, conf in zip(top_5_classes, top_5_confidences):\n",
    "                print(f\"  {cls}: {conf:.2f}%\")\n",
    "            print(\"---\")\n",
    "        else:\n",
    "            print(f\"Failed to preprocess the audio file: {file_name}\")\n",
    "            print(\"---\")\n",
    "\n",
    "# ... existing code ..."
   ]
  }
 ],
 "metadata": {
  "kernelspec": {
   "display_name": "Python 3",
   "language": "python",
   "name": "python3"
  },
  "language_info": {
   "codemirror_mode": {
    "name": "ipython",
    "version": 3
   },
   "file_extension": ".py",
   "mimetype": "text/x-python",
   "name": "python",
   "nbconvert_exporter": "python",
   "pygments_lexer": "ipython3",
   "version": "3.10.0"
  }
 },
 "nbformat": 4,
 "nbformat_minor": 2
}
